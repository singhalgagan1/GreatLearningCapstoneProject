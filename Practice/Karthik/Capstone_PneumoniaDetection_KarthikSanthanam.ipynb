{
 "cells": [
  {
   "cell_type": "markdown",
   "metadata": {
    "id": "zpawPtuX_Itv"
   },
   "source": [
    "\n",
    "### Submitted By: Capstone Group 1 - AIML MAY Group - 3\n",
    "### Project: AIML Online Capstone - Pneumonia Detection Challenge"
   ]
  },
  {
   "cell_type": "markdown",
   "metadata": {
    "id": "gJQokM_8AKAd"
   },
   "source": [
    "#### OBJECTIVE\n",
    "To build a pneumonia detection system, to locate the position of inflammation in an image.\n",
    "#### CONTEXT\n",
    "Tissues with sparse material, such as lungs which are full of air, do not absorb the X-rays and appear black in the image. Dense tissues such as bones absorb X-rays and appear white in the image.\n",
    "\n",
    "While we are theoretically detecting “lung opacities”, there are lung opacities that are not pneumonia related.\n",
    "\n",
    "In the data, some of these are labeled “Not Normal No Lung Opacity”. This extra third class indicates that while pneumonia was determined not to be present, there was nonetheless some type of abnormality on the image and oftentimes this finding may mimic the appearance of true pneumonia.\n",
    "#### DATA DESCRIPTION\n",
    "Dicom original images: - Medical images are stored in a special format called DICOM files (\\*.dcm). They contain a combination of header metadata as well as underlying raw image arrays for pixel data."
   ]
  },
  {
   "cell_type": "markdown",
   "metadata": {
    "id": "jGmx6Bk8_FVG"
   },
   "source": [
    "### Step 1 - Import the dataset."
   ]
  },
  {
   "cell_type": "markdown",
   "metadata": {
    "id": "QeTwpws1AgA5"
   },
   "source": [
    "Let us imports all required packages before importing dataset"
   ]
  },
  {
   "cell_type": "code",
   "execution_count": 3,
   "metadata": {},
   "outputs": [],
   "source": [
    "# Adding imports required for data cleansing and visualization\n",
    "import numpy as np\n",
    "import pandas as pd\n",
    "import matplotlib.pyplot as plt\n",
    "import seaborn as sns\n",
    "sns.set(color_codes=True)\n",
    "%matplotlib inline \n",
    "\n",
    "# Adding imports for misc and data prep\n",
    "import os\n",
    "import cv2\n",
    "\n",
    "# to ignore warnings\n",
    "import warnings\n",
    "warnings.filterwarnings('ignore')"
   ]
  },
  {
   "cell_type": "code",
   "execution_count": 4,
   "metadata": {},
   "outputs": [
    {
     "data": {
      "text/plain": [
       "'2.7.0'"
      ]
     },
     "execution_count": 4,
     "metadata": {},
     "output_type": "execute_result"
    }
   ],
   "source": [
    "# %tensorflow_version 2.x\n",
    "import tensorflow\n",
    "tensorflow.__version__"
   ]
  },
  {
   "cell_type": "code",
   "execution_count": 5,
   "metadata": {
    "colab": {
     "base_uri": "https://localhost:8080/",
     "height": 35
    },
    "id": "8hisqVsPAZ_e",
    "outputId": "086b6cf2-4ed5-419f-e6ca-6d172b32e451"
   },
   "outputs": [],
   "source": [
    "# Initialize the random number generator\n",
    "import random\n",
    "random.seed(0)\n",
    "tensorflow.random.set_seed(0)\n",
    "\n",
    "from sklearn.model_selection import train_test_split\n",
    "\n",
    "# NN Core imports\n",
    "from tensorflow import keras\n",
    "from tensorflow.keras.applications.mobilenet import preprocess_input\n",
    "from tensorflow.keras.applications.mobilenet import MobileNet\n",
    "from tensorflow.keras.layers import Concatenate, Conv2D, Reshape, UpSampling2D\n",
    "from tensorflow.keras.models import Model\n",
    "from tensorflow.keras.optimizers import Adam\n",
    "from tensorflow.keras.losses import binary_crossentropy\n",
    "from tensorflow.keras.callbacks import EarlyStopping, ReduceLROnPlateau\n",
    "from tensorflow.keras.metrics import Recall, Precision"
   ]
  },
  {
   "cell_type": "markdown",
   "metadata": {},
   "source": [
    "Importing the data"
   ]
  },
  {
   "cell_type": "code",
   "execution_count": 6,
   "metadata": {
    "colab": {
     "base_uri": "https://localhost:8080/"
    },
    "id": "r6hVvnexE6tT",
    "outputId": "98013d57-090a-4b88-e64b-7d5aaa854508"
   },
   "outputs": [
    {
     "name": "stdout",
     "output_type": "stream",
     "text": [
      "../input\n",
      "../input\\rsna-pneumonia-detection-challenge\n",
      "../input\\rsna-pneumonia-detection-challenge\\stage_2_test_images\n",
      "../input\\rsna-pneumonia-detection-challenge\\stage_2_train_images\n"
     ]
    }
   ],
   "source": [
    "# Lets have a look at the dir structure\n",
    "import os\n",
    "for dirname, _, _ in os.walk('../input'):\n",
    "    print(dirname)"
   ]
  },
  {
   "cell_type": "markdown",
   "metadata": {},
   "source": [
    "Define input path parameters"
   ]
  },
  {
   "cell_type": "code",
   "execution_count": 9,
   "metadata": {},
   "outputs": [],
   "source": [
    "input_path = \"../input/rsna-pneumonia-detection-challenge/\"\n",
    "\n",
    "train_img_path = input_path + 'stage_2_train_images'\n",
    "test_img_path = input_path + 'stage_2_test_images'\n",
    "\n",
    "# Contains information on the bounding box for each patient id\n",
    "bounding_box = input_path + 'stage_2_train_labels.csv' \n",
    "\n",
    "# Contains detailed class saying whether data refers to Normal, Pneumonia or any other ailments\n",
    "detailed_class_info = input_path + 'stage_2_detailed_class_info.csv'\n",
    "\n",
    "# Contains the target data for which we need to train the images\n",
    "sample_submission = input_path + 'stage_2_sample_submission.csv'"
   ]
  },
  {
   "cell_type": "markdown",
   "metadata": {},
   "source": [
    "Read the label info data"
   ]
  },
  {
   "cell_type": "code",
   "execution_count": 44,
   "metadata": {},
   "outputs": [],
   "source": [
    "bounding_box_df = pd.read_csv(train_labels)\n",
    "detailed_class_info_df = pd.read_csv(detailed_class_info)\n",
    "sample_submission_df = pd.read_csv(sample_submission)"
   ]
  },
  {
   "cell_type": "markdown",
   "metadata": {},
   "source": [
    "For each of the dataframe that is loaded, we are going to perform following,\n",
    "- Check the shape of dataframe\n",
    "- Sample content of dataframe\n",
    "- Dataframe info check\n",
    "- Duplicate check\n",
    "- Write consolidated observations on each dataframe"
   ]
  },
  {
   "cell_type": "markdown",
   "metadata": {},
   "source": [
    "#### Step 1.1 - Working with bounding_box dataframes"
   ]
  },
  {
   "cell_type": "markdown",
   "metadata": {},
   "source": [
    "Shape of dataframe"
   ]
  },
  {
   "cell_type": "code",
   "execution_count": 46,
   "metadata": {},
   "outputs": [
    {
     "name": "stdout",
     "output_type": "stream",
     "text": [
      "Shape of bounding_box dataframe is (30227, 6)\n"
     ]
    }
   ],
   "source": [
    "print (\"Shape of bounding_box dataframe is\", bounding_box_df.shape)"
   ]
  },
  {
   "cell_type": "markdown",
   "metadata": {},
   "source": [
    "Sample Content:"
   ]
  },
  {
   "cell_type": "code",
   "execution_count": 47,
   "metadata": {},
   "outputs": [
    {
     "data": {
      "text/html": [
       "<div>\n",
       "<style scoped>\n",
       "    .dataframe tbody tr th:only-of-type {\n",
       "        vertical-align: middle;\n",
       "    }\n",
       "\n",
       "    .dataframe tbody tr th {\n",
       "        vertical-align: top;\n",
       "    }\n",
       "\n",
       "    .dataframe thead th {\n",
       "        text-align: right;\n",
       "    }\n",
       "</style>\n",
       "<table border=\"1\" class=\"dataframe\">\n",
       "  <thead>\n",
       "    <tr style=\"text-align: right;\">\n",
       "      <th></th>\n",
       "      <th>patientId</th>\n",
       "      <th>x</th>\n",
       "      <th>y</th>\n",
       "      <th>width</th>\n",
       "      <th>height</th>\n",
       "      <th>Target</th>\n",
       "    </tr>\n",
       "  </thead>\n",
       "  <tbody>\n",
       "    <tr>\n",
       "      <th>0</th>\n",
       "      <td>0004cfab-14fd-4e49-80ba-63a80b6bddd6</td>\n",
       "      <td>NaN</td>\n",
       "      <td>NaN</td>\n",
       "      <td>NaN</td>\n",
       "      <td>NaN</td>\n",
       "      <td>0</td>\n",
       "    </tr>\n",
       "    <tr>\n",
       "      <th>1</th>\n",
       "      <td>00313ee0-9eaa-42f4-b0ab-c148ed3241cd</td>\n",
       "      <td>NaN</td>\n",
       "      <td>NaN</td>\n",
       "      <td>NaN</td>\n",
       "      <td>NaN</td>\n",
       "      <td>0</td>\n",
       "    </tr>\n",
       "    <tr>\n",
       "      <th>2</th>\n",
       "      <td>00322d4d-1c29-4943-afc9-b6754be640eb</td>\n",
       "      <td>NaN</td>\n",
       "      <td>NaN</td>\n",
       "      <td>NaN</td>\n",
       "      <td>NaN</td>\n",
       "      <td>0</td>\n",
       "    </tr>\n",
       "    <tr>\n",
       "      <th>3</th>\n",
       "      <td>003d8fa0-6bf1-40ed-b54c-ac657f8495c5</td>\n",
       "      <td>NaN</td>\n",
       "      <td>NaN</td>\n",
       "      <td>NaN</td>\n",
       "      <td>NaN</td>\n",
       "      <td>0</td>\n",
       "    </tr>\n",
       "    <tr>\n",
       "      <th>4</th>\n",
       "      <td>00436515-870c-4b36-a041-de91049b9ab4</td>\n",
       "      <td>264.0</td>\n",
       "      <td>152.0</td>\n",
       "      <td>213.0</td>\n",
       "      <td>379.0</td>\n",
       "      <td>1</td>\n",
       "    </tr>\n",
       "  </tbody>\n",
       "</table>\n",
       "</div>"
      ],
      "text/plain": [
       "                              patientId      x      y  width  height  Target\n",
       "0  0004cfab-14fd-4e49-80ba-63a80b6bddd6    NaN    NaN    NaN     NaN       0\n",
       "1  00313ee0-9eaa-42f4-b0ab-c148ed3241cd    NaN    NaN    NaN     NaN       0\n",
       "2  00322d4d-1c29-4943-afc9-b6754be640eb    NaN    NaN    NaN     NaN       0\n",
       "3  003d8fa0-6bf1-40ed-b54c-ac657f8495c5    NaN    NaN    NaN     NaN       0\n",
       "4  00436515-870c-4b36-a041-de91049b9ab4  264.0  152.0  213.0   379.0       1"
      ]
     },
     "execution_count": 47,
     "metadata": {},
     "output_type": "execute_result"
    }
   ],
   "source": [
    "bounding_box_df.head()"
   ]
  },
  {
   "cell_type": "markdown",
   "metadata": {},
   "source": [
    "Dataframe info:"
   ]
  },
  {
   "cell_type": "code",
   "execution_count": 48,
   "metadata": {},
   "outputs": [
    {
     "name": "stdout",
     "output_type": "stream",
     "text": [
      "<class 'pandas.core.frame.DataFrame'>\n",
      "RangeIndex: 30227 entries, 0 to 30226\n",
      "Data columns (total 6 columns):\n",
      " #   Column     Non-Null Count  Dtype  \n",
      "---  ------     --------------  -----  \n",
      " 0   patientId  30227 non-null  object \n",
      " 1   x          9555 non-null   float64\n",
      " 2   y          9555 non-null   float64\n",
      " 3   width      9555 non-null   float64\n",
      " 4   height     9555 non-null   float64\n",
      " 5   Target     30227 non-null  int64  \n",
      "dtypes: float64(4), int64(1), object(1)\n",
      "memory usage: 1.4+ MB\n"
     ]
    }
   ],
   "source": [
    "bounding_box_df.info()"
   ]
  },
  {
   "cell_type": "markdown",
   "metadata": {},
   "source": [
    "- Data looks to be clean. No null values in any columns.\n",
    "- 'patientId' columns is our key column in this data frame."
   ]
  },
  {
   "cell_type": "markdown",
   "metadata": {},
   "source": [
    "Duplicate check:"
   ]
  },
  {
   "cell_type": "code",
   "execution_count": 49,
   "metadata": {},
   "outputs": [
    {
     "data": {
      "text/plain": [
       "False"
      ]
     },
     "execution_count": 49,
     "metadata": {},
     "output_type": "execute_result"
    }
   ],
   "source": [
    "# Check for any duplicates in our key column\n",
    "bounding_box_df['patientId'].is_unique"
   ]
  },
  {
   "cell_type": "code",
   "execution_count": 50,
   "metadata": {},
   "outputs": [
    {
     "data": {
      "text/plain": [
       "(3543, 6)"
      ]
     },
     "execution_count": 50,
     "metadata": {},
     "output_type": "execute_result"
    }
   ],
   "source": [
    "# Lets check out how many duplicates we have !\n",
    "bounding_box_df_duplicate = bounding_box_df[bounding_box_df.duplicated(['patientId'])]\n",
    "bounding_box_df_duplicate.shape"
   ]
  },
  {
   "cell_type": "markdown",
   "metadata": {},
   "source": [
    "So we have around 3543 duplicate records of patientId's out of 30227 samples in the dataframe.\n",
    "\n",
    "Following inferences can be made...\n",
    "- So, do we have \"30227-3543=26684\" training images ? (one training image should be for one patient)\n",
    "- That means, we should have multiple bounding boxes for one patient id, which makes sense for duplicate rows in bounding_box_df dataframe."
   ]
  },
  {
   "cell_type": "code",
   "execution_count": 38,
   "metadata": {},
   "outputs": [
    {
     "data": {
      "text/plain": [
       "26684"
      ]
     },
     "execution_count": 38,
     "metadata": {},
     "output_type": "execute_result"
    }
   ],
   "source": [
    "path, dirs, files = next(os.walk(train_img_path))\n",
    "train_img_count = len(files)\n",
    "train_img_count"
   ]
  },
  {
   "cell_type": "markdown",
   "metadata": {},
   "source": [
    "- Okay. So, we have 26684 unique patients and a total of 30227 bounding box data. \n",
    "- That confirms our assumption that there are multiple bounding boxes for some of the patient dcm images."
   ]
  },
  {
   "cell_type": "markdown",
   "metadata": {},
   "source": [
    "**Consolidated observations on train labels dataframe:**\n",
    "- There are 30227 rows in this dataframe, which are infact bounding boxes data for various patientId's.\n",
    "- We have 26684 dcm images for 30227 bounding box data. So, there are multiple bounding boxes in some patientId dcm files.\n",
    "- Train label dataframe holds data which can be interpreted as,\n",
    "   - patiendId column, having unique id assigned to each patient.\n",
    "   - if Target is '1', i.e., if its a Pneumonia patient, \n",
    "       - we have bounding box co-ordinates with x, y, width and height\n",
    "   - if Target is '0', i.e., if its NOT a pneumonia patient, \n",
    "       - we don't have bounding box co-ordinates"
   ]
  },
  {
   "cell_type": "markdown",
   "metadata": {},
   "source": [
    "#### Step 1.2 - Working with detailed class info dataframes"
   ]
  },
  {
   "cell_type": "markdown",
   "metadata": {},
   "source": [
    "Shape of dataframe"
   ]
  },
  {
   "cell_type": "code",
   "execution_count": 26,
   "metadata": {},
   "outputs": [
    {
     "name": "stdout",
     "output_type": "stream",
     "text": [
      "Shape of detailed class info dataframe is (30227, 2)\n"
     ]
    }
   ],
   "source": [
    "print (\"Shape of detailed class info dataframe is\", detailed_class_info_df.shape)"
   ]
  },
  {
   "cell_type": "markdown",
   "metadata": {},
   "source": [
    "Sample Content:"
   ]
  },
  {
   "cell_type": "code",
   "execution_count": 27,
   "metadata": {},
   "outputs": [
    {
     "data": {
      "text/html": [
       "<div>\n",
       "<style scoped>\n",
       "    .dataframe tbody tr th:only-of-type {\n",
       "        vertical-align: middle;\n",
       "    }\n",
       "\n",
       "    .dataframe tbody tr th {\n",
       "        vertical-align: top;\n",
       "    }\n",
       "\n",
       "    .dataframe thead th {\n",
       "        text-align: right;\n",
       "    }\n",
       "</style>\n",
       "<table border=\"1\" class=\"dataframe\">\n",
       "  <thead>\n",
       "    <tr style=\"text-align: right;\">\n",
       "      <th></th>\n",
       "      <th>patientId</th>\n",
       "      <th>class</th>\n",
       "    </tr>\n",
       "  </thead>\n",
       "  <tbody>\n",
       "    <tr>\n",
       "      <th>0</th>\n",
       "      <td>0004cfab-14fd-4e49-80ba-63a80b6bddd6</td>\n",
       "      <td>No Lung Opacity / Not Normal</td>\n",
       "    </tr>\n",
       "    <tr>\n",
       "      <th>1</th>\n",
       "      <td>00313ee0-9eaa-42f4-b0ab-c148ed3241cd</td>\n",
       "      <td>No Lung Opacity / Not Normal</td>\n",
       "    </tr>\n",
       "    <tr>\n",
       "      <th>2</th>\n",
       "      <td>00322d4d-1c29-4943-afc9-b6754be640eb</td>\n",
       "      <td>No Lung Opacity / Not Normal</td>\n",
       "    </tr>\n",
       "    <tr>\n",
       "      <th>3</th>\n",
       "      <td>003d8fa0-6bf1-40ed-b54c-ac657f8495c5</td>\n",
       "      <td>Normal</td>\n",
       "    </tr>\n",
       "    <tr>\n",
       "      <th>4</th>\n",
       "      <td>00436515-870c-4b36-a041-de91049b9ab4</td>\n",
       "      <td>Lung Opacity</td>\n",
       "    </tr>\n",
       "  </tbody>\n",
       "</table>\n",
       "</div>"
      ],
      "text/plain": [
       "                              patientId                         class\n",
       "0  0004cfab-14fd-4e49-80ba-63a80b6bddd6  No Lung Opacity / Not Normal\n",
       "1  00313ee0-9eaa-42f4-b0ab-c148ed3241cd  No Lung Opacity / Not Normal\n",
       "2  00322d4d-1c29-4943-afc9-b6754be640eb  No Lung Opacity / Not Normal\n",
       "3  003d8fa0-6bf1-40ed-b54c-ac657f8495c5                        Normal\n",
       "4  00436515-870c-4b36-a041-de91049b9ab4                  Lung Opacity"
      ]
     },
     "execution_count": 27,
     "metadata": {},
     "output_type": "execute_result"
    }
   ],
   "source": [
    "detailed_class_info_df.head()"
   ]
  },
  {
   "cell_type": "markdown",
   "metadata": {},
   "source": [
    "Dataframe info:"
   ]
  },
  {
   "cell_type": "code",
   "execution_count": 40,
   "metadata": {},
   "outputs": [
    {
     "name": "stdout",
     "output_type": "stream",
     "text": [
      "<class 'pandas.core.frame.DataFrame'>\n",
      "RangeIndex: 30227 entries, 0 to 30226\n",
      "Data columns (total 2 columns):\n",
      " #   Column     Non-Null Count  Dtype \n",
      "---  ------     --------------  ----- \n",
      " 0   patientId  30227 non-null  object\n",
      " 1   class      30227 non-null  object\n",
      "dtypes: object(2)\n",
      "memory usage: 472.4+ KB\n"
     ]
    }
   ],
   "source": [
    "detailed_class_info_df.info()"
   ]
  },
  {
   "cell_type": "markdown",
   "metadata": {},
   "source": [
    "- Data looks to be clean. No null values in any columns.\n",
    "- 'patientId' columns is our key column in this data frame. Based on patientId, data in this dataframe relates to data in bounding_box_df (bounding box) dataframe."
   ]
  },
  {
   "cell_type": "markdown",
   "metadata": {},
   "source": [
    "Duplicate check:"
   ]
  },
  {
   "cell_type": "code",
   "execution_count": 41,
   "metadata": {},
   "outputs": [
    {
     "data": {
      "text/plain": [
       "False"
      ]
     },
     "execution_count": 41,
     "metadata": {},
     "output_type": "execute_result"
    }
   ],
   "source": [
    "# Check for any duplicates in our key column\n",
    "detailed_class_info_df['patientId'].is_unique"
   ]
  },
  {
   "cell_type": "code",
   "execution_count": 42,
   "metadata": {},
   "outputs": [
    {
     "data": {
      "text/plain": [
       "(3543, 2)"
      ]
     },
     "execution_count": 42,
     "metadata": {},
     "output_type": "execute_result"
    }
   ],
   "source": [
    "# Lets check out how many duplicates we have !\n",
    "detailed_class_info_df_duplicate = detailed_class_info_df[detailed_class_info_df.duplicated(['patientId'])]\n",
    "detailed_class_info_df_duplicate.shape"
   ]
  },
  {
   "cell_type": "markdown",
   "metadata": {},
   "source": [
    "Good to see that duplicate record count for patientId is 3543 and this exactly matches the duplicate count in bounding_box_df (bounding box) dataframe."
   ]
  },
  {
   "cell_type": "markdown",
   "metadata": {},
   "source": [
    "**Consolidated observations on detailed class info dataframes:**\n",
    "- There are 30227 rows in this dataframe.\n",
    "- There are 3543 duplicate records in this dataframe. This count exactly matches duplicate count in bounding_box_df (bounding box) dataframe.\n",
    "- Above datafarme holds additional detailed information about the positive and negative classes (Target column) in the training set\n",
    "- This data may be used to build more nuanced models, as including this information with training data will improve the FPR rate of our model and thereby our model will be more robust !\n",
    "- So, let us merge bounding_box_df and detailed_class_info_df dataframes to have one single dataframe of interest."
   ]
  },
  {
   "cell_type": "markdown",
   "metadata": {},
   "source": [
    "**(Merge) Working with bounding-box and detailed-class-info dataframes**"
   ]
  },
  {
   "cell_type": "markdown",
   "metadata": {},
   "source": [
    "Merge bounding_box_df and detailed_class_info_df dataframes"
   ]
  },
  {
   "cell_type": "code",
   "execution_count": 52,
   "metadata": {},
   "outputs": [
    {
     "data": {
      "text/plain": [
       "(30227, 7)"
      ]
     },
     "execution_count": 52,
     "metadata": {},
     "output_type": "execute_result"
    }
   ],
   "source": [
    "train_data_df = pd.concat([bounding_box_df, detailed_class_info_df['class']], axis = 1)\n",
    "train_data_df.shape"
   ]
  },
  {
   "cell_type": "markdown",
   "metadata": {},
   "source": [
    "Sample Content:"
   ]
  },
  {
   "cell_type": "code",
   "execution_count": 53,
   "metadata": {},
   "outputs": [
    {
     "data": {
      "text/html": [
       "<div>\n",
       "<style scoped>\n",
       "    .dataframe tbody tr th:only-of-type {\n",
       "        vertical-align: middle;\n",
       "    }\n",
       "\n",
       "    .dataframe tbody tr th {\n",
       "        vertical-align: top;\n",
       "    }\n",
       "\n",
       "    .dataframe thead th {\n",
       "        text-align: right;\n",
       "    }\n",
       "</style>\n",
       "<table border=\"1\" class=\"dataframe\">\n",
       "  <thead>\n",
       "    <tr style=\"text-align: right;\">\n",
       "      <th></th>\n",
       "      <th>patientId</th>\n",
       "      <th>x</th>\n",
       "      <th>y</th>\n",
       "      <th>width</th>\n",
       "      <th>height</th>\n",
       "      <th>Target</th>\n",
       "      <th>class</th>\n",
       "    </tr>\n",
       "  </thead>\n",
       "  <tbody>\n",
       "    <tr>\n",
       "      <th>0</th>\n",
       "      <td>0004cfab-14fd-4e49-80ba-63a80b6bddd6</td>\n",
       "      <td>NaN</td>\n",
       "      <td>NaN</td>\n",
       "      <td>NaN</td>\n",
       "      <td>NaN</td>\n",
       "      <td>0</td>\n",
       "      <td>No Lung Opacity / Not Normal</td>\n",
       "    </tr>\n",
       "    <tr>\n",
       "      <th>1</th>\n",
       "      <td>00313ee0-9eaa-42f4-b0ab-c148ed3241cd</td>\n",
       "      <td>NaN</td>\n",
       "      <td>NaN</td>\n",
       "      <td>NaN</td>\n",
       "      <td>NaN</td>\n",
       "      <td>0</td>\n",
       "      <td>No Lung Opacity / Not Normal</td>\n",
       "    </tr>\n",
       "    <tr>\n",
       "      <th>2</th>\n",
       "      <td>00322d4d-1c29-4943-afc9-b6754be640eb</td>\n",
       "      <td>NaN</td>\n",
       "      <td>NaN</td>\n",
       "      <td>NaN</td>\n",
       "      <td>NaN</td>\n",
       "      <td>0</td>\n",
       "      <td>No Lung Opacity / Not Normal</td>\n",
       "    </tr>\n",
       "    <tr>\n",
       "      <th>3</th>\n",
       "      <td>003d8fa0-6bf1-40ed-b54c-ac657f8495c5</td>\n",
       "      <td>NaN</td>\n",
       "      <td>NaN</td>\n",
       "      <td>NaN</td>\n",
       "      <td>NaN</td>\n",
       "      <td>0</td>\n",
       "      <td>Normal</td>\n",
       "    </tr>\n",
       "    <tr>\n",
       "      <th>4</th>\n",
       "      <td>00436515-870c-4b36-a041-de91049b9ab4</td>\n",
       "      <td>264.0</td>\n",
       "      <td>152.0</td>\n",
       "      <td>213.0</td>\n",
       "      <td>379.0</td>\n",
       "      <td>1</td>\n",
       "      <td>Lung Opacity</td>\n",
       "    </tr>\n",
       "  </tbody>\n",
       "</table>\n",
       "</div>"
      ],
      "text/plain": [
       "                              patientId      x      y  width  height  Target  \\\n",
       "0  0004cfab-14fd-4e49-80ba-63a80b6bddd6    NaN    NaN    NaN     NaN       0   \n",
       "1  00313ee0-9eaa-42f4-b0ab-c148ed3241cd    NaN    NaN    NaN     NaN       0   \n",
       "2  00322d4d-1c29-4943-afc9-b6754be640eb    NaN    NaN    NaN     NaN       0   \n",
       "3  003d8fa0-6bf1-40ed-b54c-ac657f8495c5    NaN    NaN    NaN     NaN       0   \n",
       "4  00436515-870c-4b36-a041-de91049b9ab4  264.0  152.0  213.0   379.0       1   \n",
       "\n",
       "                          class  \n",
       "0  No Lung Opacity / Not Normal  \n",
       "1  No Lung Opacity / Not Normal  \n",
       "2  No Lung Opacity / Not Normal  \n",
       "3                        Normal  \n",
       "4                  Lung Opacity  "
      ]
     },
     "execution_count": 53,
     "metadata": {},
     "output_type": "execute_result"
    }
   ],
   "source": [
    "train_data_df.head()"
   ]
  },
  {
   "cell_type": "markdown",
   "metadata": {},
   "source": [
    "Now we have one single dataframe having details about bounding-box and detailed-class-info dataframes"
   ]
  },
  {
   "cell_type": "markdown",
   "metadata": {},
   "source": [
    "#### Step 1.3 - Working with sample submission dataframes (target information dataframe)"
   ]
  },
  {
   "cell_type": "markdown",
   "metadata": {},
   "source": [
    "Shape of dataframe"
   ]
  },
  {
   "cell_type": "code",
   "execution_count": 55,
   "metadata": {},
   "outputs": [
    {
     "name": "stdout",
     "output_type": "stream",
     "text": [
      "Shape of sample_submission_df is (3000, 2)\n"
     ]
    }
   ],
   "source": [
    "print (\"Shape of sample_submission_df is\", sample_submission_df.shape)"
   ]
  },
  {
   "cell_type": "markdown",
   "metadata": {},
   "source": [
    "Sample Content:"
   ]
  },
  {
   "cell_type": "code",
   "execution_count": 56,
   "metadata": {},
   "outputs": [
    {
     "data": {
      "text/html": [
       "<div>\n",
       "<style scoped>\n",
       "    .dataframe tbody tr th:only-of-type {\n",
       "        vertical-align: middle;\n",
       "    }\n",
       "\n",
       "    .dataframe tbody tr th {\n",
       "        vertical-align: top;\n",
       "    }\n",
       "\n",
       "    .dataframe thead th {\n",
       "        text-align: right;\n",
       "    }\n",
       "</style>\n",
       "<table border=\"1\" class=\"dataframe\">\n",
       "  <thead>\n",
       "    <tr style=\"text-align: right;\">\n",
       "      <th></th>\n",
       "      <th>patientId</th>\n",
       "      <th>PredictionString</th>\n",
       "    </tr>\n",
       "  </thead>\n",
       "  <tbody>\n",
       "    <tr>\n",
       "      <th>0</th>\n",
       "      <td>0000a175-0e68-4ca4-b1af-167204a7e0bc</td>\n",
       "      <td>0.5 0 0 100 100</td>\n",
       "    </tr>\n",
       "    <tr>\n",
       "      <th>1</th>\n",
       "      <td>0005d3cc-3c3f-40b9-93c3-46231c3eb813</td>\n",
       "      <td>0.5 0 0 100 100</td>\n",
       "    </tr>\n",
       "    <tr>\n",
       "      <th>2</th>\n",
       "      <td>000686d7-f4fc-448d-97a0-44fa9c5d3aa6</td>\n",
       "      <td>0.5 0 0 100 100</td>\n",
       "    </tr>\n",
       "    <tr>\n",
       "      <th>3</th>\n",
       "      <td>000e3a7d-c0ca-4349-bb26-5af2d8993c3d</td>\n",
       "      <td>0.5 0 0 100 100</td>\n",
       "    </tr>\n",
       "    <tr>\n",
       "      <th>4</th>\n",
       "      <td>00100a24-854d-423d-a092-edcf6179e061</td>\n",
       "      <td>0.5 0 0 100 100</td>\n",
       "    </tr>\n",
       "  </tbody>\n",
       "</table>\n",
       "</div>"
      ],
      "text/plain": [
       "                              patientId PredictionString\n",
       "0  0000a175-0e68-4ca4-b1af-167204a7e0bc  0.5 0 0 100 100\n",
       "1  0005d3cc-3c3f-40b9-93c3-46231c3eb813  0.5 0 0 100 100\n",
       "2  000686d7-f4fc-448d-97a0-44fa9c5d3aa6  0.5 0 0 100 100\n",
       "3  000e3a7d-c0ca-4349-bb26-5af2d8993c3d  0.5 0 0 100 100\n",
       "4  00100a24-854d-423d-a092-edcf6179e061  0.5 0 0 100 100"
      ]
     },
     "execution_count": 56,
     "metadata": {},
     "output_type": "execute_result"
    }
   ],
   "source": [
    "sample_submission_df.head()"
   ]
  },
  {
   "cell_type": "markdown",
   "metadata": {},
   "source": [
    "Dataframe info:"
   ]
  },
  {
   "cell_type": "code",
   "execution_count": 57,
   "metadata": {},
   "outputs": [
    {
     "name": "stdout",
     "output_type": "stream",
     "text": [
      "<class 'pandas.core.frame.DataFrame'>\n",
      "RangeIndex: 3000 entries, 0 to 2999\n",
      "Data columns (total 2 columns):\n",
      " #   Column            Non-Null Count  Dtype \n",
      "---  ------            --------------  ----- \n",
      " 0   patientId         3000 non-null   object\n",
      " 1   PredictionString  3000 non-null   object\n",
      "dtypes: object(2)\n",
      "memory usage: 47.0+ KB\n"
     ]
    }
   ],
   "source": [
    "sample_submission_df.info()"
   ]
  },
  {
   "cell_type": "markdown",
   "metadata": {},
   "source": [
    "- Target sample data as well looks clean. No null values in any columns.\n",
    "- 'patientId' columns is our key column and this should relate to the test images that we have in the dataset."
   ]
  },
  {
   "cell_type": "markdown",
   "metadata": {},
   "source": [
    "Duplicate check:"
   ]
  },
  {
   "cell_type": "code",
   "execution_count": 58,
   "metadata": {},
   "outputs": [
    {
     "data": {
      "text/plain": [
       "True"
      ]
     },
     "execution_count": 58,
     "metadata": {},
     "output_type": "execute_result"
    }
   ],
   "source": [
    "# Check for any duplicates in our key column\n",
    "sample_submission_df['patientId'].is_unique"
   ]
  },
  {
   "cell_type": "markdown",
   "metadata": {},
   "source": [
    "- We have not got any duplicates in sample-submission dataframe. \n",
    "- This tells that we should as well have 3000 sample images in our test image directory."
   ]
  },
  {
   "cell_type": "code",
   "execution_count": 59,
   "metadata": {},
   "outputs": [
    {
     "data": {
      "text/plain": [
       "3000"
      ]
     },
     "execution_count": 59,
     "metadata": {},
     "output_type": "execute_result"
    }
   ],
   "source": [
    "path, dirs, files = next(os.walk(test_img_path))\n",
    "test_img_count = len(files)\n",
    "test_img_count"
   ]
  },
  {
   "cell_type": "markdown",
   "metadata": {},
   "source": [
    "- Okay. So, our test data set is clean.\n",
    "- we have 3000 samples in the dataframe and 3000 images in the test image directory, which indicates that we have test images for all records in the test/target dataframe."
   ]
  },
  {
   "cell_type": "markdown",
   "metadata": {},
   "source": [
    "**Consolidated observations on train labels dataframe:**\n",
    "- Target data is clean\n",
    "   - There are 3000 records in sample-submission dataframe. \n",
    "   - 3000 record count in dataframe is exactly matching the number of test images in the dataset.\n",
    "   - There are no duplicate records in the dataframe.\n",
    "- sample-submission dataframe contains columns 'PredictionString' that holds the target (expected) bounding boxes for the test input dcm image.\n",
    "- Sample content of 'PredictionString' columns is as,\n",
    "  - 0.5 0 0 100 100\n",
    "  - In the above data each value indicates following,\n",
    "     - confidence-of-prediction bounding-box-x-coordinate bounding-box-y-coordinate width-of-bounding-box height-of-bounding-box\n",
    "  - In above example,\n",
    "     - confidence-of-prediction is 0.5\n",
    "     - bounding-box-x-coordinate is 0\n",
    "     - bounding-box-y-coordinate is 0\n",
    "     - width-of-bounding-box is 100\n",
    "     - height-of-bounding-box is 100\n",
    "\n",
    "Note: One test image contains only one bounding boxes as reference. Prediction can have multiple bounding boxes detected."
   ]
  },
  {
   "cell_type": "markdown",
   "metadata": {},
   "source": [
    "### Step 2 - Data Visualization"
   ]
  },
  {
   "cell_type": "markdown",
   "metadata": {},
   "source": [
    "**How balanced is our target data ?**"
   ]
  },
  {
   "cell_type": "code",
   "execution_count": 82,
   "metadata": {},
   "outputs": [
    {
     "data": {
      "image/png": "[encoded data removed]",
      "text/plain": [
       "<Figure size 432x288 with 1 Axes>"
      ]
     },
     "metadata": {
      "needs_background": "light"
     },
     "output_type": "display_data"
    }
   ],
   "source": [
    "ax = sns.countplot(x=\"Target\", data = bounding_box_df, label=\"Count\");\n",
    "plt.title('Target data distribution \\\"Is Pneumonia Case ?\\\"')\n",
    "plt.xlabel('Is_Pneumonia ?')\n",
    "plt.ylabel('Count')\n",
    "for p in ax.patches:\n",
    "        ax.annotate('{:d}'.format(p.get_height()), (p.get_x()+0.3, p.get_height()))"
   ]
  },
  {
   "cell_type": "code",
   "execution_count": 79,
   "metadata": {
    "scrolled": true
   },
   "outputs": [
    {
     "data": {
      "image/png": "[encoded data removed]",
      "text/plain": [
       "<Figure size 432x288 with 1 Axes>"
      ]
     },
     "metadata": {},
     "output_type": "display_data"
    }
   ],
   "source": [
    "myexplode = [0.1, 0]\n",
    "plt.pie(bounding_box_df['Target'].value_counts(), \n",
    "        labels=bounding_box_df['Target'].unique(), \n",
    "        explode=myexplode,\n",
    "        startangle=75, \n",
    "        shadow = True, \n",
    "        autopct='%2.2f%%');\n",
    "plt.title('Distribution of target variable \\\"Is_Pneumonia\\\" in %\"');"
   ]
  },
  {
   "cell_type": "markdown",
   "metadata": {},
   "source": [
    "**Class distribution in detailed_class_info dataframe**"
   ]
  },
  {
   "cell_type": "code",
   "execution_count": 88,
   "metadata": {},
   "outputs": [
    {
     "data": {
      "image/png": "[encoded data removed]",
      "text/plain": [
       "<Figure size 432x288 with 1 Axes>"
      ]
     },
     "metadata": {},
     "output_type": "display_data"
    }
   ],
   "source": [
    "myexplode = [0.05, 0.05, 0.05]\n",
    "plt.pie(detailed_class_info_df['class'].value_counts(), \n",
    "        labels=detailed_class_info_df['class'].unique(), \n",
    "        explode=myexplode,\n",
    "        startangle=75, \n",
    "        shadow = True, \n",
    "        autopct='%2.2f%%');\n",
    "plt.title('Distribution of target class');"
   ]
  },
  {
   "cell_type": "markdown",
   "metadata": {},
   "source": [
    "Note: Normal class % (31.61) in detailed_class_info dataframe, matches with Normal class % (Target 0) in bounding_box dataframe"
   ]
  },
  {
   "cell_type": "markdown",
   "metadata": {},
   "source": [
    "**Read and visualize sample dicom images**"
   ]
  },
  {
   "cell_type": "code",
   "execution_count": null,
   "metadata": {},
   "outputs": [],
   "source": []
  }
 ],
 "metadata": {
  "colab": {
   "collapsed_sections": [],
   "name": "Project-CNN-KarthikSanthanam.ipynb",
   "provenance": []
  },
  "kernelspec": {
   "display_name": "TensorFlow-GPU",
   "language": "python",
   "name": "tensorflow"
  },
  "language_info": {
   "codemirror_mode": {
    "name": "ipython",
    "version": 3
   },
   "file_extension": ".py",
   "mimetype": "text/x-python",
   "name": "python",
   "nbconvert_exporter": "python",
   "pygments_lexer": "ipython3",
   "version": "3.9.7"
  }
 },
 "nbformat": 4,
 "nbformat_minor": 1
}
